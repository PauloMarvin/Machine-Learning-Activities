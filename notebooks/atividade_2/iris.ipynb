{
 "cells": [
  {
   "metadata": {},
   "cell_type": "markdown",
   "source": "# Importação de bibliotecas",
   "id": "8ea506c7e6b7f0e6"
  },
  {
   "cell_type": "code",
   "id": "initial_id",
   "metadata": {
    "collapsed": true,
    "ExecuteTime": {
     "end_time": "2024-05-06T15:08:40.309164Z",
     "start_time": "2024-05-06T15:08:40.306488Z"
    }
   },
   "source": [
    "from ucimlrepo import fetch_ucirepo\n",
    "import pandas as pd\n",
    "import numpy as np\n",
    "from classifiers.bayesian_classifier import BayesianGaussianClassifier\n",
    "from utils.classifier_utils import ClassifierUtils\n",
    "from utils.dataset_utils import DatasetUtils\n",
    "from utils.image_generator import ImageGenerator"
   ],
   "execution_count": 17,
   "outputs": []
  },
  {
   "metadata": {},
   "cell_type": "markdown",
   "source": "# Definição de constantes",
   "id": "c1714c2970f9d4a4"
  },
  {
   "metadata": {
    "ExecuteTime": {
     "end_time": "2024-05-06T15:08:40.390481Z",
     "start_time": "2024-05-06T15:08:40.387547Z"
    }
   },
   "cell_type": "code",
   "source": [
    "np.random.seed(42)\n",
    "CLASSIFIER_NAME = \"Bayesian Gaussian\"\n",
    "TARGET_COLUMN_NAME = \"class\"\n",
    "DATASET_NAME = \"Iris\"\n",
    "TEST_SIZE = 0.2\n",
    "HOLDOUT_INDEXES_NUMBER = 200\n",
    "FIG_SIZE = (12, 10)\n",
    "IMAGE_FONT_SIZE = 20\n",
    "RESOLUTION_POINTS = 1000"
   ],
   "id": "a3cff05230e1770f",
   "execution_count": 18,
   "outputs": []
  },
  {
   "metadata": {},
   "cell_type": "markdown",
   "source": "# Baixando dataset Iris",
   "id": "683a60082a5b2441"
  },
  {
   "metadata": {
    "ExecuteTime": {
     "end_time": "2024-05-06T15:08:41.585324Z",
     "start_time": "2024-05-06T15:08:40.412999Z"
    }
   },
   "cell_type": "code",
   "source": [
    "iris = fetch_ucirepo(id=53)\n",
    "\n",
    "X_iris = iris.data.features\n",
    "y_iris = iris.data.targets\n",
    "\n",
    "iris_df = pd.concat([X_iris, y_iris], axis=\"columns\")"
   ],
   "id": "5418384bd60e7e9e",
   "execution_count": 19,
   "outputs": []
  },
  {
   "metadata": {
    "ExecuteTime": {
     "end_time": "2024-05-06T15:08:41.589260Z",
     "start_time": "2024-05-06T15:08:41.586331Z"
    }
   },
   "cell_type": "code",
   "source": "list(iris_df[TARGET_COLUMN_NAME].unique())",
   "id": "9a4f7972a83cf43c",
   "execution_count": 20,
   "outputs": []
  },
  {
   "metadata": {},
   "cell_type": "markdown",
   "source": "# Redefinindo classes para valores numéricos",
   "id": "cf257137d677b333"
  },
  {
   "metadata": {
    "ExecuteTime": {
     "end_time": "2024-05-06T15:08:41.598729Z",
     "start_time": "2024-05-06T15:08:41.589260Z"
    }
   },
   "cell_type": "code",
   "source": [
    "class_mapping = {\"Iris-setosa\": 0, \"Iris-versicolor\": 1, \"Iris-virginica\": 2}\n",
    "iris_df[TARGET_COLUMN_NAME] = iris_df[TARGET_COLUMN_NAME].map(class_mapping)\n",
    "iris_df[TARGET_COLUMN_NAME]"
   ],
   "id": "5e497d198af1a065",
   "execution_count": 21,
   "outputs": []
  },
  {
   "metadata": {},
   "cell_type": "markdown",
   "source": "# Treinamento e avaliação dos modelos, juntamente com a criação de tabela de métricas para o classificador Bayesiano",
   "id": "c46f0096a0d6d7ff"
  },
  {
   "metadata": {
    "ExecuteTime": {
     "end_time": "2024-05-06T15:08:42.331003Z",
     "start_time": "2024-05-06T15:08:41.600246Z"
    }
   },
   "cell_type": "code",
   "source": [
    "bayesian_holdout_indexes = ClassifierUtils.create_multiple_holdout_indexes(\n",
    "    df=iris_df, n_indexes=HOLDOUT_INDEXES_NUMBER, test_size=TEST_SIZE\n",
    ")\n",
    "\n",
    "bayesian_accuracy_list = []\n",
    "\n",
    "for train_indexes, test_indexes in bayesian_holdout_indexes:\n",
    "    X_train, y_train, X_test, y_test = ClassifierUtils.separate_train_test(\n",
    "        df=iris_df,\n",
    "        train_indexes=train_indexes,\n",
    "        test_indexes=test_indexes,\n",
    "        target_column_name=TARGET_COLUMN_NAME,\n",
    "    )\n",
    "\n",
    "    classifier = BayesianGaussianClassifier()\n",
    "    classifier.fit(X_train, y_train)\n",
    "\n",
    "    y_pred = classifier.predict(X_test=X_test)\n",
    "\n",
    "    accuracy = ClassifierUtils.calculate_accuracy(y_true=y_test, y_pred=y_pred)\n",
    "    error_rate = ClassifierUtils.calculate_error_rate(y_true=y_test, y_pred=y_pred)\n",
    "\n",
    "    confusion_matrix_result = ClassifierUtils.confusion_matrix(\n",
    "        y_true=y_test, y_pred=y_pred\n",
    "    )\n",
    "\n",
    "    bayesian_accuracy_list.append(\n",
    "        (\n",
    "            accuracy,\n",
    "            error_rate,\n",
    "            train_indexes,\n",
    "            test_indexes,\n",
    "            y_pred,\n",
    "            confusion_matrix_result,\n",
    "        )\n",
    "    )\n",
    "\n",
    "bayesian_df_results = pd.DataFrame(\n",
    "    bayesian_accuracy_list,\n",
    "    columns=[\n",
    "        \"accuracy\",\n",
    "        \"error_rate\",\n",
    "        \"train_indexes\",\n",
    "        \"test_indexes\",\n",
    "        \"y_pred\",\n",
    "        \"confusion_matrix\",\n",
    "    ],\n",
    ")\n",
    "\n",
    "bayesian_df_results"
   ],
   "id": "dc3d21c7f9ea4d7b",
   "execution_count": 22,
   "outputs": []
  },
  {
   "metadata": {},
   "cell_type": "markdown",
   "source": "# Vetor de acurácias",
   "id": "5c3ecabb37d982f9"
  },
  {
   "metadata": {
    "ExecuteTime": {
     "end_time": "2024-05-06T15:08:42.334201Z",
     "start_time": "2024-05-06T15:08:42.332019Z"
    }
   },
   "cell_type": "code",
   "source": "bayesian_accuracy_vector = pd.Series(bayesian_df_results[\"accuracy\"])",
   "id": "5d1828ae08676b3b",
   "execution_count": 23,
   "outputs": []
  },
  {
   "metadata": {
    "ExecuteTime": {
     "end_time": "2024-05-06T15:08:42.345692Z",
     "start_time": "2024-05-06T15:08:42.334201Z"
    }
   },
   "cell_type": "code",
   "source": "bayesian_accuracy_vector",
   "id": "ed40413181afdd35",
   "execution_count": 24,
   "outputs": []
  },
  {
   "metadata": {},
   "cell_type": "markdown",
   "source": "# Definindo gerador de imagens",
   "id": "7ad2b41361baa720"
  },
  {
   "metadata": {
    "ExecuteTime": {
     "end_time": "2024-05-06T15:08:42.351974Z",
     "start_time": "2024-05-06T15:08:42.346697Z"
    }
   },
   "cell_type": "code",
   "source": "image_generator = ImageGenerator(figure_size=FIG_SIZE, font_size=IMAGE_FONT_SIZE)",
   "id": "6a4277db380c7f95",
   "execution_count": 25,
   "outputs": []
  },
  {
   "metadata": {},
   "cell_type": "markdown",
   "source": "# Boxplot das acurácias do classificador Bayesiano",
   "id": "ee4abd83de7cb58a"
  },
  {
   "metadata": {
    "ExecuteTime": {
     "end_time": "2024-05-06T15:08:42.484799Z",
     "start_time": "2024-05-06T15:08:42.352987Z"
    }
   },
   "cell_type": "code",
   "source": [
    "image_generator.create_boxplot(\n",
    "    vector_distribution=bayesian_accuracy_vector,\n",
    "    y_label=\"Accuracy\",\n",
    "    image_title=f\"{CLASSIFIER_NAME} Classifier Accuracy {HOLDOUT_INDEXES_NUMBER} Holdouts on {DATASET_NAME} Dataset\",\n",
    "    path_to_save=\"../../data/images/atividade_2/iris_bayesian_accuracy_boxplot.jpeg\",\n",
    "    show=True,\n",
    ")"
   ],
   "id": "2118871b3e80b1dc",
   "execution_count": 26,
   "outputs": []
  },
  {
   "metadata": {},
   "cell_type": "markdown",
   "source": "# Baseado na melhor acurácia, pego os índices de treino e teste que geraram ela e calculo a superfície de decisão e também resgato a sua respectiva matriz de confusão",
   "id": "d2c1ede549d7a5c"
  },
  {
   "metadata": {
    "ExecuteTime": {
     "end_time": "2024-05-06T15:08:42.494124Z",
     "start_time": "2024-05-06T15:08:42.485811Z"
    }
   },
   "cell_type": "code",
   "source": [
    "max_accuracy = bayesian_df_results[\"accuracy\"].max()\n",
    "indexes_of_max_accuracy = bayesian_df_results[\n",
    "    bayesian_df_results[\"accuracy\"] == max_accuracy\n",
    "].index.tolist()\n",
    "\n",
    "index_selected = np.random.choice(indexes_of_max_accuracy)\n",
    "\n",
    "print(f\"Índice(s) com melhor acurácia: {indexes_of_max_accuracy}\")\n",
    "print(f\"Índice selecionado aleatoriamente: {index_selected}\")\n",
    "print(f\"Acurácia do índice selecionado: {max_accuracy * 100:.2f}%\")\n",
    "\n",
    "best_accuracy_train_indexes = bayesian_df_results.loc[index_selected, \"train_indexes\"]\n",
    "best_accuracy_test_indexes = bayesian_df_results.loc[index_selected, \"test_indexes\"]\n",
    "\n",
    "X_train, y_train, X_test, y_test = ClassifierUtils.separate_train_test(\n",
    "    df=iris_df,\n",
    "    train_indexes=best_accuracy_train_indexes,\n",
    "    test_indexes=best_accuracy_test_indexes,\n",
    "    target_column_name=TARGET_COLUMN_NAME,\n",
    ")"
   ],
   "id": "18d5a2cc73ba47e8",
   "execution_count": 27,
   "outputs": []
  },
  {
   "metadata": {},
   "cell_type": "markdown",
   "source": "# Resgatando a matriz de confusão e plotando ela",
   "id": "b55e72401486e7c6"
  },
  {
   "metadata": {
    "ExecuteTime": {
     "end_time": "2024-05-06T15:08:42.499179Z",
     "start_time": "2024-05-06T15:08:42.495074Z"
    }
   },
   "cell_type": "code",
   "source": "confusion_matrix_result = bayesian_df_results.loc[index_selected, \"confusion_matrix\"]",
   "id": "876eee6ffa311932",
   "execution_count": 28,
   "outputs": []
  },
  {
   "metadata": {
    "ExecuteTime": {
     "end_time": "2024-05-06T15:08:42.507362Z",
     "start_time": "2024-05-06T15:08:42.499179Z"
    }
   },
   "cell_type": "code",
   "source": "confusion_matrix_result",
   "id": "51575a0530016516",
   "execution_count": 29,
   "outputs": []
  },
  {
   "metadata": {
    "ExecuteTime": {
     "end_time": "2024-05-06T15:08:42.622640Z",
     "start_time": "2024-05-06T15:08:42.507362Z"
    }
   },
   "cell_type": "code",
   "source": [
    "image_generator.create_confusion_matrix_heatmap(\n",
    "    confusion_matrix=confusion_matrix_result,\n",
    "    x_label=\"Predicted Labels\",\n",
    "    y_label=\"True Labels\",\n",
    "    image_title=f\"{CLASSIFIER_NAME} Classifier Confusion Matrix on {DATASET_NAME} Dataset\",\n",
    "    path_to_save=\"../../data/images/atividade_2/iris_bayesian_confusion_matrix.jpeg\",\n",
    "    show=True,\n",
    ")"
   ],
   "id": "1a20aedd4d02f6ae",
   "execution_count": 30,
   "outputs": []
  },
  {
   "metadata": {},
   "cell_type": "markdown",
   "source": "# Calculo de superfície de decisão para o classificador Bayesiano baseado em duas features",
   "id": "79154d81ff1346e8"
  },
  {
   "metadata": {
    "ExecuteTime": {
     "end_time": "2024-05-06T15:08:42.712599Z",
     "start_time": "2024-05-06T15:08:42.623511Z"
    }
   },
   "cell_type": "code",
   "source": [
    "feature_x = X_train.columns[0]\n",
    "feature_y = X_train.columns[1]\n",
    "\n",
    "test_grid, x_shape, y_shape = DatasetUtils.create_test_grid(\n",
    "    X_train=X_train,\n",
    "    feature_x=feature_x,\n",
    "    feature_y=feature_y,\n",
    "    resolution_points=RESOLUTION_POINTS,\n",
    "    return_shapes=True,\n",
    ")\n",
    "\n",
    "classifier = BayesianGaussianClassifier()\n",
    "classifier.fit(X_train[[feature_x, feature_y]], y_train)\n",
    "\n",
    "y_pred_test_grid = classifier.predict(test_grid)\n",
    "\n",
    "y_pred_test_grid = y_pred_test_grid.reshape(x_shape)"
   ],
   "id": "dc2eadaa69a95a79",
   "execution_count": 31,
   "outputs": []
  },
  {
   "metadata": {},
   "cell_type": "markdown",
   "source": "# Plot da superfície de decisão para o classificador Bayesiano",
   "id": "a7a675315c0a6862"
  },
  {
   "metadata": {
    "ExecuteTime": {
     "end_time": "2024-05-06T15:08:43.731306Z",
     "start_time": "2024-05-06T15:08:42.712599Z"
    }
   },
   "cell_type": "code",
   "source": [
    "image_generator.create_decision_surface(\n",
    "    X_train=X_train,\n",
    "    y_train=y_train,\n",
    "    y_pred=y_pred_test_grid,\n",
    "    image_title=f\"{CLASSIFIER_NAME} Classifier Decision Surface on {DATASET_NAME} Dataset\",\n",
    "    feature_x=feature_x,\n",
    "    feature_y=feature_y,\n",
    "    resolution_points=RESOLUTION_POINTS,\n",
    "    path_to_save=\"../../data/images/atividade_2/iris_bayesian_decision_surface.jpeg\",\n",
    "    show=True,\n",
    ")"
   ],
   "id": "2fc8eb561b8a8b11",
   "execution_count": 32,
   "outputs": []
  }
 ],
 "metadata": {
  "kernelspec": {
   "display_name": "Python 3",
   "language": "python",
   "name": "python3"
  },
  "language_info": {
   "codemirror_mode": {
    "name": "ipython",
    "version": 2
   },
   "file_extension": ".py",
   "mimetype": "text/x-python",
   "name": "python",
   "nbconvert_exporter": "python",
   "pygments_lexer": "ipython2",
   "version": "2.7.6"
  }
 },
 "nbformat": 4,
 "nbformat_minor": 5
}
